{
 "cells": [
  {
   "cell_type": "code",
   "execution_count": 1,
   "id": "initial_id",
   "metadata": {
    "collapsed": true,
    "ExecuteTime": {
     "end_time": "2024-03-05T13:49:06.996396600Z",
     "start_time": "2024-03-05T13:48:36.063822Z"
    }
   },
   "outputs": [
    {
     "name": "stdout",
     "output_type": "stream",
     "text": [
      "aizynthfinder类对象创建成功\n"
     ]
    }
   ],
   "source": [
    "import time\n",
    "\n",
    "from aizynthfinder.aizynthfinder import AiZynthFinder\n",
    "\n",
    "# 初始化 AiZynthFinder\n",
    "filename = \"../model_database/config.yml\"\n",
    "finder = AiZynthFinder(filename)\n",
    "# 选择库存、扩展策略和过滤策略\n",
    "finder.stock.select(\"zinc\")\n",
    "finder.expansion_policy.select(\"uspto_condition\")\n",
    "finder.filter_policy.select(\"uspto\")\n",
    "\n",
    "# 设置目标 SMILES\n",
    "finder.target_smiles = \"Cc1cccc(c1N(CC(=O)Nc2ccc(cc2)c3ncon3)C(=O)C4CCS(=O)(=O)CC4)C\"\n",
    "finder.tree_search()\n",
    "finder.build_routes()"
   ]
  },
  {
   "cell_type": "markdown",
   "source": [
    "Scorer\n",
    "- StateScorer\n",
    "- MaxTransformScorerer\n",
    "- FractionInStockScorer\n",
    "- NumberOfReactionsScorer\n",
    "- NumberOfPrecursorsScorer\n",
    "- NumberOfPrecursorsInStockScorer\n",
    "- AverageTemplateOccurrenceScorer\n",
    "- PriceSumScorer\n",
    "- RouteCostScorer\n",
    "- ReactionClassMembershipScorer （需提供set）\n",
    "- StockAvailabilityScorer 需提供source_score\n",
    "- CombinedScorer"
   ],
   "metadata": {
    "collapsed": false
   },
   "id": "3f357fe9ab1c35f"
  },
  {
   "cell_type": "code",
   "execution_count": 2,
   "outputs": [
    {
     "name": "stdout",
     "output_type": "stream",
     "text": [
      "Score for route 0: 0.994039853898894\n",
      "Score for route 1: 0.9865529289315002\n",
      "Score for route 2: 0.9865529289315002\n",
      "Score for route 3: 0.9865529289315002\n",
      "Score for route 4: 0.9865529289315002\n",
      "Score for route 5: 0.9865529289315002\n",
      "Score for route 6: 0.9865529289315002\n",
      "Score for route 7: 0.9865529289315002\n"
     ]
    }
   ],
   "source": [
    "from aizynthfinder.context.scoring import StateScorer\n",
    "\n",
    "scorer = StateScorer(finder.config)\n",
    "\n",
    "# 收集所有反应路径及其得分\n",
    "route_scores = []\n",
    "for route_dict in finder.routes:\n",
    "    reaction_tree = route_dict['reaction_tree']\n",
    "    score = scorer(reaction_tree)\n",
    "    route_scores.append(score)\n",
    "\n",
    "# 打印每个路径的得分，这里应该显示不同的得分\n",
    "for idx, score in enumerate(route_scores):\n",
    "    print(f\"Score for route {idx}: {score}\")"
   ],
   "metadata": {
    "collapsed": false,
    "ExecuteTime": {
     "end_time": "2024-03-05T13:49:07.059171700Z",
     "start_time": "2024-03-05T13:49:06.996396600Z"
    }
   },
   "id": "de9beb1dc7a440"
  },
  {
   "cell_type": "code",
   "execution_count": 3,
   "outputs": [
    {
     "name": "stdout",
     "output_type": "stream",
     "text": [
      "Score for route 0: 2\n",
      "Score for route 1: 3\n",
      "Score for route 2: 3\n",
      "Score for route 3: 3\n",
      "Score for route 4: 3\n",
      "Score for route 5: 3\n",
      "Score for route 6: 3\n",
      "Score for route 7: 3\n"
     ]
    }
   ],
   "source": [
    "from aizynthfinder.context.scoring import MaxTransformScorerer\n",
    "\n",
    "scorer = MaxTransformScorerer(finder.config)\n",
    "\n",
    "# 收集所有反应路径及其得分\n",
    "route_scores = []\n",
    "for route_dict in finder.routes:\n",
    "    reaction_tree = route_dict['reaction_tree']\n",
    "    score = scorer(reaction_tree)\n",
    "    route_scores.append(score)\n",
    "\n",
    "# 打印每个路径的得分，这里应该显示不同的得分\n",
    "for idx, score in enumerate(route_scores):\n",
    "    print(f\"Score for route {idx}: {score}\")"
   ],
   "metadata": {
    "collapsed": false,
    "ExecuteTime": {
     "end_time": "2024-03-05T13:49:07.059990300Z",
     "start_time": "2024-03-05T13:49:07.028352900Z"
    }
   },
   "id": "147b20d726ad13e4"
  },
  {
   "cell_type": "code",
   "execution_count": 4,
   "outputs": [
    {
     "name": "stdout",
     "output_type": "stream",
     "text": [
      "Score for route 0: 1.0\n",
      "Score for route 1: 1.0\n",
      "Score for route 2: 1.0\n",
      "Score for route 3: 1.0\n",
      "Score for route 4: 1.0\n",
      "Score for route 5: 1.0\n",
      "Score for route 6: 1.0\n",
      "Score for route 7: 1.0\n"
     ]
    }
   ],
   "source": [
    "from aizynthfinder.context.scoring import FractionInStockScorer\n",
    "\n",
    "scorer = FractionInStockScorer(finder.config)\n",
    "\n",
    "# 收集所有反应路径及其得分\n",
    "route_scores = []\n",
    "for route_dict in finder.routes:\n",
    "    reaction_tree = route_dict['reaction_tree']\n",
    "    score = scorer(reaction_tree)\n",
    "    route_scores.append(score)\n",
    "\n",
    "# 打印每个路径的得分，这里应该显示不同的得分\n",
    "for idx, score in enumerate(route_scores):\n",
    "    print(f\"Score for route {idx}: {score}\")"
   ],
   "metadata": {
    "collapsed": false,
    "ExecuteTime": {
     "end_time": "2024-03-05T13:49:07.059990300Z",
     "start_time": "2024-03-05T13:49:07.044641100Z"
    }
   },
   "id": "ec7a6371214c8294"
  },
  {
   "cell_type": "code",
   "execution_count": 5,
   "outputs": [
    {
     "name": "stdout",
     "output_type": "stream",
     "text": [
      "Score for route 0: 2\n",
      "Score for route 1: 3\n",
      "Score for route 2: 3\n",
      "Score for route 3: 3\n",
      "Score for route 4: 3\n",
      "Score for route 5: 3\n",
      "Score for route 6: 3\n",
      "Score for route 7: 3\n"
     ]
    }
   ],
   "source": [
    "from aizynthfinder.context.scoring import NumberOfReactionsScorer\n",
    "\n",
    "scorer = NumberOfReactionsScorer(finder.config)\n",
    "\n",
    "# 收集所有反应路径及其得分\n",
    "route_scores = []\n",
    "for route_dict in finder.routes:\n",
    "    reaction_tree = route_dict['reaction_tree']\n",
    "    score = scorer(reaction_tree)\n",
    "    route_scores.append(score)\n",
    "\n",
    "# 打印每个路径的得分，这里应该显示不同的得分\n",
    "for idx, score in enumerate(route_scores):\n",
    "    print(f\"Score for route {idx}: {score}\")"
   ],
   "metadata": {
    "collapsed": false,
    "ExecuteTime": {
     "end_time": "2024-03-05T13:49:07.077244Z",
     "start_time": "2024-03-05T13:49:07.059990300Z"
    }
   },
   "id": "7edc3614ff3512e2"
  },
  {
   "cell_type": "code",
   "execution_count": 6,
   "outputs": [
    {
     "name": "stdout",
     "output_type": "stream",
     "text": [
      "Score for route 0: 3\n",
      "Score for route 1: 4\n",
      "Score for route 2: 4\n",
      "Score for route 3: 4\n",
      "Score for route 4: 4\n",
      "Score for route 5: 4\n",
      "Score for route 6: 4\n",
      "Score for route 7: 4\n"
     ]
    }
   ],
   "source": [
    "from aizynthfinder.context.scoring import NumberOfPrecursorsScorer\n",
    "\n",
    "scorer = NumberOfPrecursorsScorer(finder.config)\n",
    "\n",
    "# 收集所有反应路径及其得分\n",
    "route_scores = []\n",
    "for route_dict in finder.routes:\n",
    "    reaction_tree = route_dict['reaction_tree']\n",
    "    score = scorer(reaction_tree)\n",
    "    route_scores.append(score)\n",
    "\n",
    "# 打印每个路径的得分，这里应该显示不同的得分\n",
    "for idx, score in enumerate(route_scores):\n",
    "    print(f\"Score for route {idx}: {score}\")"
   ],
   "metadata": {
    "collapsed": false,
    "ExecuteTime": {
     "end_time": "2024-03-05T13:49:07.124650700Z",
     "start_time": "2024-03-05T13:49:07.077244Z"
    }
   },
   "id": "d5f28201683daca6"
  },
  {
   "cell_type": "code",
   "execution_count": 7,
   "outputs": [
    {
     "name": "stdout",
     "output_type": "stream",
     "text": [
      "Score for route 0: 3\n",
      "Score for route 1: 4\n",
      "Score for route 2: 4\n",
      "Score for route 3: 4\n",
      "Score for route 4: 4\n",
      "Score for route 5: 4\n",
      "Score for route 6: 4\n",
      "Score for route 7: 4\n"
     ]
    }
   ],
   "source": [
    "from aizynthfinder.context.scoring import NumberOfPrecursorsInStockScorer\n",
    "\n",
    "scorer = NumberOfPrecursorsInStockScorer(finder.config)\n",
    "\n",
    "# 收集所有反应路径及其得分\n",
    "route_scores = []\n",
    "for route_dict in finder.routes:\n",
    "    reaction_tree = route_dict['reaction_tree']\n",
    "    score = scorer(reaction_tree)\n",
    "    route_scores.append(score)\n",
    "\n",
    "# 打印每个路径的得分，这里应该显示不同的得分\n",
    "for idx, score in enumerate(route_scores):\n",
    "    print(f\"Score for route {idx}: {score}\")"
   ],
   "metadata": {
    "collapsed": false,
    "ExecuteTime": {
     "end_time": "2024-03-05T13:49:07.140582100Z",
     "start_time": "2024-03-05T13:49:07.093470600Z"
    }
   },
   "id": "e5e889de79f88417"
  },
  {
   "cell_type": "code",
   "execution_count": 8,
   "outputs": [
    {
     "name": "stdout",
     "output_type": "stream",
     "text": [
      "Score for route 0: 495.5\n",
      "Score for route 1: 3418.0\n",
      "Score for route 2: 3338.0\n",
      "Score for route 3: 2647.6666666666665\n",
      "Score for route 4: 3688.0\n",
      "Score for route 5: 3609.3333333333335\n",
      "Score for route 6: 1169.6666666666667\n",
      "Score for route 7: 1791.0\n"
     ]
    }
   ],
   "source": [
    "from aizynthfinder.context.scoring import AverageTemplateOccurrenceScorer\n",
    "\n",
    "scorer = AverageTemplateOccurrenceScorer(finder.config)\n",
    "\n",
    "# 收集所有反应路径及其得分\n",
    "route_scores = []\n",
    "for route_dict in finder.routes:\n",
    "    reaction_tree = route_dict['reaction_tree']\n",
    "    score = scorer(reaction_tree)\n",
    "    route_scores.append(score)\n",
    "\n",
    "# 打印每个路径的得分，这里应该显示不同的得分\n",
    "for idx, score in enumerate(route_scores):\n",
    "    print(f\"Score for route {idx}: {score}\")"
   ],
   "metadata": {
    "collapsed": false,
    "ExecuteTime": {
     "end_time": "2024-03-05T13:49:07.142033800Z",
     "start_time": "2024-03-05T13:49:07.109645900Z"
    }
   },
   "id": "d474eb2aa25381e3"
  },
  {
   "cell_type": "code",
   "execution_count": 9,
   "outputs": [
    {
     "name": "stdout",
     "output_type": "stream",
     "text": [
      "Score for route 0: 3.0\n",
      "Score for route 1: 4.0\n",
      "Score for route 2: 4.0\n",
      "Score for route 3: 4.0\n",
      "Score for route 4: 4.0\n",
      "Score for route 5: 4.0\n",
      "Score for route 6: 4.0\n",
      "Score for route 7: 4.0\n"
     ]
    }
   ],
   "source": [
    "from aizynthfinder.context.scoring import PriceSumScorer\n",
    "\n",
    "scorer = PriceSumScorer(finder.config)\n",
    "\n",
    "# 收集所有反应路径及其得分\n",
    "route_scores = []\n",
    "for route_dict in finder.routes:\n",
    "    reaction_tree = route_dict['reaction_tree']\n",
    "    score = scorer(reaction_tree)\n",
    "    route_scores.append(score)\n",
    "\n",
    "# 打印每个路径的得分，这里应该显示不同的得分\n",
    "for idx, score in enumerate(route_scores):\n",
    "    print(f\"Score for route {idx}: {score}\")"
   ],
   "metadata": {
    "collapsed": false,
    "ExecuteTime": {
     "end_time": "2024-03-05T13:49:07.145104200Z",
     "start_time": "2024-03-05T13:49:07.129038300Z"
    }
   },
   "id": "8a427d3f4f741caa"
  },
  {
   "cell_type": "code",
   "execution_count": 10,
   "outputs": [
    {
     "name": "stdout",
     "output_type": "stream",
     "text": [
      "Score for route 0: 6.625\n",
      "Score for route 1: 10.53125\n",
      "Score for route 2: 10.53125\n",
      "Score for route 3: 10.53125\n",
      "Score for route 4: 10.53125\n",
      "Score for route 5: 10.53125\n",
      "Score for route 6: 10.53125\n",
      "Score for route 7: 10.53125\n"
     ]
    }
   ],
   "source": [
    "from aizynthfinder.context.scoring import RouteCostScorer\n",
    "\n",
    "scorer = RouteCostScorer(finder.config)\n",
    "\n",
    "# 收集所有反应路径及其得分\n",
    "route_scores = []\n",
    "for route_dict in finder.routes:\n",
    "    reaction_tree = route_dict['reaction_tree']\n",
    "    score = scorer(reaction_tree)\n",
    "    route_scores.append(score)\n",
    "\n",
    "# 打印每个路径的得分，这里应该显示不同的得分\n",
    "for idx, score in enumerate(route_scores):\n",
    "    print(f\"Score for route {idx}: {score}\")"
   ],
   "metadata": {
    "collapsed": false,
    "ExecuteTime": {
     "end_time": "2024-03-05T13:49:07.204237Z",
     "start_time": "2024-03-05T13:49:07.145104200Z"
    }
   },
   "id": "a5e4c2fbccc6e16d"
  },
  {
   "cell_type": "code",
   "execution_count": 11,
   "outputs": [],
   "source": [
    "# 需提供set\n",
    "# from aizynthfinder.context.scoring import ReactionClassMembershipScorer\n",
    "# \n",
    "# scorer = ReactionClassMembershipScorer(finder.config)\n",
    "# \n",
    "# # 收集所有反应路径及其得分\n",
    "# route_scores = []\n",
    "# for route_dict in finder.routes:\n",
    "#     reaction_tree = route_dict['reaction_tree']\n",
    "#     score = scorer(reaction_tree)\n",
    "#     route_scores.append(score)\n",
    "# \n",
    "# # 打印每个路径的得分，这里应该显示不同的得分\n",
    "# for idx, score in enumerate(route_scores):\n",
    "#     print(f\"Score for route {idx}: {score}\")"
   ],
   "metadata": {
    "collapsed": false,
    "ExecuteTime": {
     "end_time": "2024-03-05T13:49:07.208009500Z",
     "start_time": "2024-03-05T13:49:07.156741600Z"
    }
   },
   "id": "10d392da683a50e9"
  },
  {
   "cell_type": "code",
   "execution_count": 12,
   "outputs": [],
   "source": [
    "# 需提供source_score\n",
    "# from aizynthfinder.context.scoring import StockAvailabilityScorer\n",
    "# \n",
    "# scorer = StockAvailabilityScorer(finder.config)\n",
    "# \n",
    "# # 收集所有反应路径及其得分\n",
    "# route_scores = []\n",
    "# for route_dict in finder.routes:\n",
    "#     reaction_tree = route_dict['reaction_tree']\n",
    "#     score = scorer(reaction_tree)\n",
    "#     route_scores.append(score)\n",
    "# \n",
    "# # 打印每个路径的得分，这里应该显示不同的得分\n",
    "# for idx, score in enumerate(route_scores):\n",
    "#     print(f\"Score for route {idx}: {score}\")"
   ],
   "metadata": {
    "collapsed": false,
    "ExecuteTime": {
     "end_time": "2024-03-05T13:49:07.208009500Z",
     "start_time": "2024-03-05T13:49:07.174002900Z"
    }
   },
   "id": "64fff06686eb5830"
  },
  {
   "cell_type": "code",
   "execution_count": 13,
   "outputs": [
    {
     "name": "stdout",
     "output_type": "stream",
     "text": [
      "Score for route 0: 0.9970199269494471\n",
      "Score for route 1: 0.9932764644657501\n",
      "Score for route 2: 0.9932764644657501\n",
      "Score for route 3: 0.9932764644657501\n",
      "Score for route 4: 0.9932764644657501\n",
      "Score for route 5: 0.9932764644657501\n",
      "Score for route 6: 0.9932764644657501\n",
      "Score for route 7: 0.9932764644657501\n"
     ]
    }
   ],
   "source": [
    "from aizynthfinder.context.scoring import CombinedScorer\n",
    "\n",
    "scorer = CombinedScorer(finder.config,[\"state score\",\"fraction in stock\"])\n",
    "\n",
    "# 收集所有反应路径及其得分\n",
    "route_scores = []\n",
    "for route_dict in finder.routes:\n",
    "    reaction_tree = route_dict['reaction_tree']\n",
    "    score = scorer(reaction_tree)\n",
    "    route_scores.append(score)\n",
    "\n",
    "# 打印每个路径的得分，这里应该显示不同的得分\n",
    "for idx, score in enumerate(route_scores):\n",
    "    print(f\"Score for route {idx}: {score}\")"
   ],
   "metadata": {
    "collapsed": false,
    "ExecuteTime": {
     "end_time": "2024-03-05T13:49:07.208009500Z",
     "start_time": "2024-03-05T13:49:07.191723600Z"
    }
   },
   "id": "f8eed3cf6974baff"
  }
 ],
 "metadata": {
  "kernelspec": {
   "display_name": "Python 3",
   "language": "python",
   "name": "python3"
  },
  "language_info": {
   "codemirror_mode": {
    "name": "ipython",
    "version": 2
   },
   "file_extension": ".py",
   "mimetype": "text/x-python",
   "name": "python",
   "nbconvert_exporter": "python",
   "pygments_lexer": "ipython2",
   "version": "2.7.6"
  }
 },
 "nbformat": 4,
 "nbformat_minor": 5
}
